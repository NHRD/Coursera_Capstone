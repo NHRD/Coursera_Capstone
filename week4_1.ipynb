
 "cells": [
  {
   "cell_type": "markdown",
   "metadata": {},
   "source": [
    "# Capstone Project:The Battle of Neighborhoods "
   ]
  },
  {
   "cell_type": "markdown",
   "metadata": {},
   "source": [
    "## 1) Background"
   ]
  },
  {
   "cell_type": "markdown",
   "metadata": {},
   "source": [
    "I want to go back to my home town Toyota-city.  \n",
    "However my wife was born in another area in Aichi, she is hesitating to go to Toyota-city.  \n",
    "To overcome the situation I am planing to satisfy her dream by go back to Toyota-city.  \n",
    "My wife's dream is to open a resturant.  \n",  
    "So showing the potential of Toyota-city for new resturant in this project."
   ]
  },
  {
   "cell_type": "markdown",
   "metadata": {},
   "source": [
    "## 2) Problem"
   ]
  },
  {
   "cell_type": "markdown",
   "metadata": {},
   "source": [
   "The idea of this study is to show which part of Toyota-city is the best for new resturant by providing data about:  \n",
   "potential customers from population derived from population distribution. \n",
   "competitors in the same regions."
   ]
  },
  {
   "cell_type": "markdown",
   "metadata": {},
   "source": [
    "## 3) Data"
   ]
  },
  {
   "cell_type": "markdown",
   "metadata": {},
   "source": [
    "For the study, population data and resturant data in accordance with geometric information is needed.  \n"
    "We can download population vs area name of Toyota-city from the URL shown below.  \n"
    "https://www.city.toyota.aichi.jp/_res/projects/default_project/_page_/001/004/759/h29/01.xls"
    "Also we can download postcode list from the URL shown below.  \n"
    "https://www.post.japanpost.jp/zipcode/dl/oogaki/zip/23aichi.zip  \n"
    "Above two data can be linked by using area name."
    "To obtain resturant data, latitude and longitude of each place in Toyota is needed.  \n"
    "The postcode data also used to obtain these data.  \n"
    "From postcode we can obtain latitude and longitude of the place by using API shown below.  "
   ]
  },
  {
   "cell_type": "code",
   "execution_count": 129,
   "metadata": {},
   "outputs": [],
   "source": [
    "import pandas as pd\n",
    "import numpy as np\n",
    "import urllib.request, urllib.error\n",
    "import xml.etree.ElementTree"
   ]
  },
  {
   "cell_type": "code",
   "execution_count": 130,
   "metadata": {},
   "outputs": [
    {
     "data": {
      "text/html": [
       "<div>\n",
       "<style scoped>\n",
       "    .dataframe tbody tr th:only-of-type {\n",
       "        vertical-align: middle;\n",
       "    }\n",
       "\n",
       "    .dataframe tbody tr th {\n",
       "        vertical-align: top;\n",
       "    }\n",
       "\n",
       "    .dataframe thead th {\n",
       "        text-align: right;\n",
       "    }\n",
       "</style>\n",
       "<table border=\"1\" class=\"dataframe\">\n",
       "  <thead>\n",
       "    <tr style=\"text-align: right;\">\n",
       "      <th></th>\n",
       "      <th>Postcode</th>\n",
       "      <th>Prefecture</th>\n",
       "      <th>City</th>\n",
       "      <th>Area</th>\n",
       "    </tr>\n",
       "  </thead>\n",
       "  <tbody>\n",
       "    <tr>\n",
       "      <th>0</th>\n",
       "      <td>600000</td>\n",
       "      <td>HOKKAIDO</td>\n",
       "      <td>SAPPORO SHI CHUO KU</td>\n",
       "      <td>IKANIKEISAIGANAIBAAI</td>\n",
       "    </tr>\n",
       "    <tr>\n",
       "      <th>1</th>\n",
       "      <td>640941</td>\n",
       "      <td>HOKKAIDO</td>\n",
       "      <td>SAPPORO SHI CHUO KU</td>\n",
       "      <td>ASAHIGAOKA</td>\n",
       "    </tr>\n",
       "    <tr>\n",
       "      <th>2</th>\n",
       "      <td>600041</td>\n",
       "      <td>HOKKAIDO</td>\n",
       "      <td>SAPPORO SHI CHUO KU</td>\n",
       "      <td>ODORIHIGASHI</td>\n",
       "    </tr>\n",
       "    <tr>\n",
       "      <th>3</th>\n",
       "      <td>600042</td>\n",
       "      <td>HOKKAIDO</td>\n",
       "      <td>SAPPORO SHI CHUO KU</td>\n",
       "      <td>ODORINISHI(1-19-CHOME)</td>\n",
       "    </tr>\n",
       "    <tr>\n",
       "      <th>4</th>\n",
       "      <td>640820</td>\n",
       "      <td>HOKKAIDO</td>\n",
       "      <td>SAPPORO SHI CHUO KU</td>\n",
       "      <td>ODORINISHI(20-28-CHOME)</td>\n",
       "    </tr>\n",
       "    <tr>\n",
       "      <th>5</th>\n",
       "      <td>600031</td>\n",
       "      <td>HOKKAIDO</td>\n",
       "      <td>SAPPORO SHI CHUO KU</td>\n",
       "      <td>KITA1-JOHIGASHI</td>\n",
       "    </tr>\n",
       "    <tr>\n",
       "      <th>6</th>\n",
       "      <td>600001</td>\n",
       "      <td>HOKKAIDO</td>\n",
       "      <td>SAPPORO SHI CHUO KU</td>\n",
       "      <td>KITA1-JONISHI(1-19-CHOME)</td>\n",
       "    </tr>\n",
       "    <tr>\n",
       "      <th>7</th>\n",
       "      <td>640821</td>\n",
       "      <td>HOKKAIDO</td>\n",
       "      <td>SAPPORO SHI CHUO KU</td>\n",
       "      <td>KITA1-JONISHI(20-28-CHOME)</td>\n",
       "    </tr>\n",
       "    <tr>\n",
       "      <th>8</th>\n",
       "      <td>600032</td>\n",
       "      <td>HOKKAIDO</td>\n",
       "      <td>SAPPORO SHI CHUO KU</td>\n",
       "      <td>KITA2-JOHIGASHI</td>\n",
       "    </tr>\n",
       "    <tr>\n",
       "      <th>9</th>\n",
       "      <td>600002</td>\n",
       "      <td>HOKKAIDO</td>\n",
       "      <td>SAPPORO SHI CHUO KU</td>\n",
       "      <td>KITA2-JONISHI(1-19-CHOME)</td>\n",
       "    </tr>\n",
       "  </tbody>\n",
       "</table>\n",
       "</div>"
      ],
      "text/plain": [
       "   Postcode Prefecture                 City                        Area\n",
       "0    600000   HOKKAIDO  SAPPORO SHI CHUO KU        IKANIKEISAIGANAIBAAI\n",
       "1    640941   HOKKAIDO  SAPPORO SHI CHUO KU                  ASAHIGAOKA\n",
       "2    600041   HOKKAIDO  SAPPORO SHI CHUO KU                ODORIHIGASHI\n",
       "3    600042   HOKKAIDO  SAPPORO SHI CHUO KU      ODORINISHI(1-19-CHOME)\n",
       "4    640820   HOKKAIDO  SAPPORO SHI CHUO KU     ODORINISHI(20-28-CHOME)\n",
       "5    600031   HOKKAIDO  SAPPORO SHI CHUO KU             KITA1-JOHIGASHI\n",
       "6    600001   HOKKAIDO  SAPPORO SHI CHUO KU   KITA1-JONISHI(1-19-CHOME)\n",
       "7    640821   HOKKAIDO  SAPPORO SHI CHUO KU  KITA1-JONISHI(20-28-CHOME)\n",
       "8    600032   HOKKAIDO  SAPPORO SHI CHUO KU             KITA2-JOHIGASHI\n",
       "9    600002   HOKKAIDO  SAPPORO SHI CHUO KU   KITA2-JONISHI(1-19-CHOME)"
      ]
     },
     "execution_count": 130,
     "metadata": {},
     "output_type": "execute_result"
    }
   ],
   "source": [
    "df = pd.read_csv(\"KEN_ALL_ROME.CSV\")\n",
    "df.head(10)"
   ]
  },
  {
   "cell_type": "code",
   "execution_count": 131,
   "metadata": {},
   "outputs": [
    {
     "data": {
      "text/html": [
       "<div>\n",
       "<style scoped>\n",
       "    .dataframe tbody tr th:only-of-type {\n",
       "        vertical-align: middle;\n",
       "    }\n",
       "\n",
       "    .dataframe tbody tr th {\n",
       "        vertical-align: top;\n",
       "    }\n",
       "\n",
       "    .dataframe thead th {\n",
       "        text-align: right;\n",
       "    }\n",
       "</style>\n",
       "<table border=\"1\" class=\"dataframe\">\n",
       "  <thead>\n",
       "    <tr style=\"text-align: right;\">\n",
       "      <th></th>\n",
       "      <th>Postcode</th>\n",
       "      <th>Prefecture</th>\n",
       "      <th>City</th>\n",
       "      <th>Area</th>\n",
       "    </tr>\n",
       "  </thead>\n",
       "  <tbody>\n",
       "    <tr>\n",
       "      <th>0</th>\n",
       "      <td>4710000</td>\n",
       "      <td>AICHI KEN</td>\n",
       "      <td>TOYOTA SHI</td>\n",
       "      <td>IKANIKEISAIGANAIBAAI</td>\n",
       "    </tr>\n",
       "    <tr>\n",
       "      <th>1</th>\n",
       "      <td>4710052</td>\n",
       "      <td>AICHI KEN</td>\n",
       "      <td>TOYOTA SHI</td>\n",
       "      <td>AIZUMACHO</td>\n",
       "    </tr>\n",
       "    <tr>\n",
       "      <th>2</th>\n",
       "      <td>4700335</td>\n",
       "      <td>AICHI KEN</td>\n",
       "      <td>TOYOTA SHI</td>\n",
       "      <td>AOKICHO</td>\n",
       "    </tr>\n",
       "    <tr>\n",
       "      <th>3</th>\n",
       "      <td>4710873</td>\n",
       "      <td>AICHI KEN</td>\n",
       "      <td>TOYOTA SHI</td>\n",
       "      <td>AKIBACHO</td>\n",
       "    </tr>\n",
       "    <tr>\n",
       "      <th>4</th>\n",
       "      <td>4710835</td>\n",
       "      <td>AICHI KEN</td>\n",
       "      <td>TOYOTA SHI</td>\n",
       "      <td>AKEBONOCHO</td>\n",
       "    </tr>\n",
       "  </tbody>\n",
       "</table>\n",
       "</div>"
      ],
      "text/plain": [
       "   Postcode Prefecture        City                  Area\n",
       "0   4710000  AICHI KEN  TOYOTA SHI  IKANIKEISAIGANAIBAAI\n",
       "1   4710052  AICHI KEN  TOYOTA SHI             AIZUMACHO\n",
       "2   4700335  AICHI KEN  TOYOTA SHI               AOKICHO\n",
       "3   4710873  AICHI KEN  TOYOTA SHI              AKIBACHO\n",
       "4   4710835  AICHI KEN  TOYOTA SHI            AKEBONOCHO"
      ]
     },
     "execution_count": 131,
     "metadata": {},
     "output_type": "execute_result"
    }
   ],
   "source": [
    "df = df[df['City'] == 'TOYOTA SHI'].reset_index()\n",
    "df = df[['Postcode', 'Prefecture', 'City', 'Area']]\n",
    "df.head()"
   ]
  },
  {
   "cell_type": "code",
   "execution_count": 132,
   "metadata": {},
   "outputs": [
    {
     "data": {
      "text/html": [
       "<div>\n",
       "<style scoped>\n",
       "    .dataframe tbody tr th:only-of-type {\n",
       "        vertical-align: middle;\n",
       "    }\n",
       "\n",
       "    .dataframe tbody tr th {\n",
       "        vertical-align: top;\n",
       "    }\n",
       "\n",
       "    .dataframe thead th {\n",
       "        text-align: right;\n",
       "    }\n",
       "</style>\n",
       "<table border=\"1\" class=\"dataframe\">\n",
       "  <thead>\n",
       "    <tr style=\"text-align: right;\">\n",
       "      <th></th>\n",
       "      <th>Postcode</th>\n",
       "      <th>Latitude</th>\n",
       "      <th>Longuitude</th>\n",
       "    </tr>\n",
       "  </thead>\n",
       "  <tbody>\n",
       "    <tr>\n",
       "      <th>0</th>\n",
       "      <td>4710000</td>\n",
       "      <td>137.310677</td>\n",
       "      <td>35.140814</td>\n",
       "    </tr>\n",
       "    <tr>\n",
       "      <th>1</th>\n",
       "      <td>4710052</td>\n",
       "      <td>137.139678</td>\n",
       "      <td>35.104364</td>\n",
       "    </tr>\n",
       "    <tr>\n",
       "      <th>2</th>\n",
       "      <td>4700335</td>\n",
       "      <td>137.185037</td>\n",
       "      <td>35.123342</td>\n",
       "    </tr>\n",
       "    <tr>\n",
       "      <th>3</th>\n",
       "      <td>4710873</td>\n",
       "      <td>137.165974</td>\n",
       "      <td>35.063098</td>\n",
       "    </tr>\n",
       "    <tr>\n",
       "      <th>4</th>\n",
       "      <td>4710835</td>\n",
       "      <td>137.133589</td>\n",
       "      <td>35.05884</td>\n",
       "    </tr>\n",
       "  </tbody>\n",
       "</table>\n",
       "</div>"
      ],
      "text/plain": [
       "   Postcode    Latitude Longuitude\n",
       "0   4710000  137.310677  35.140814\n",
       "1   4710052  137.139678  35.104364\n",
       "2   4700335  137.185037  35.123342\n",
       "3   4710873  137.165974  35.063098\n",
       "4   4710835  137.133589   35.05884"
      ]
     },
     "execution_count": 132,
     "metadata": {},
     "output_type": "execute_result"
    }
   ],
   "source": [
    "lat_long = []\n",
    "\n",
    "def geo(zip_code, API_URL):\n",
    "    zip = str(zip_code)\n",
    "    response = urllib.request.urlopen(API_URL + zip)\n",
    "    xml_result = response.read()\n",
    "    response.close()\n",
    "    elem = xml.etree.ElementTree.fromstring(xml_result)\n",
    "    lat = elem.findtext(\".//x\")\n",
    "    long = elem.findtext(\".//y\")\n",
    "    data = [zip_code, lat, long]\n",
    "    return data\n",
    "\n",
    "URL = 'http://geoapi.heartrails.com/api/xml?method=searchByPostal&postal='\n",
    "\n",
    "for i in range(len(df)):\n",
    "    lat_long.append(geo(df.Postcode[i], URL))\n",
    "\n",
    "df_lat_long = pd.DataFrame(lat_long, columns=['Postcode', 'Latitude', 'Longuitude'])  \n",
    "df_lat_long.head()"
   ]
  },
  {
   "cell_type": "code",
   "execution_count": 133,
   "metadata": {},
   "outputs": [
    {
     "data": {
      "text/html": [
       "<div>\n",
       "<style scoped>\n",
       "    .dataframe tbody tr th:only-of-type {\n",
       "        vertical-align: middle;\n",
       "    }\n",
       "\n",
       "    .dataframe tbody tr th {\n",
       "        vertical-align: top;\n",
       "    }\n",
       "\n",
       "    .dataframe thead th {\n",
       "        text-align: right;\n",
       "    }\n",
       "</style>\n",
       "<table border=\"1\" class=\"dataframe\">\n",
       "  <thead>\n",
       "    <tr style=\"text-align: right;\">\n",
       "      <th></th>\n",
       "      <th>Postcode</th>\n",
       "      <th>Prefecture</th>\n",
       "      <th>City</th>\n",
       "      <th>Area</th>\n",
       "      <th>Latitude</th>\n",
       "      <th>Longuitude</th>\n",
       "    </tr>\n",
       "  </thead>\n",
       "  <tbody>\n",
       "    <tr>\n",
       "      <th>0</th>\n",
       "      <td>4710000</td>\n",
       "      <td>AICHI KEN</td>\n",
       "      <td>TOYOTA SHI</td>\n",
       "      <td>IKANIKEISAIGANAIBAAI</td>\n",
       "      <td>137.310677</td>\n",
       "      <td>35.140814</td>\n",
       "    </tr>\n",
       "    <tr>\n",
       "      <th>1</th>\n",
       "      <td>4710052</td>\n",
       "      <td>AICHI KEN</td>\n",
       "      <td>TOYOTA SHI</td>\n",
       "      <td>AIZUMACHO</td>\n",
       "      <td>137.139678</td>\n",
       "      <td>35.104364</td>\n",
       "    </tr>\n",
       "    <tr>\n",
       "      <th>2</th>\n",
       "      <td>4700335</td>\n",
       "      <td>AICHI KEN</td>\n",
       "      <td>TOYOTA SHI</td>\n",
       "      <td>AOKICHO</td>\n",
       "      <td>137.185037</td>\n",
       "      <td>35.123342</td>\n",
       "    </tr>\n",
       "    <tr>\n",
       "      <th>3</th>\n",
       "      <td>4710873</td>\n",
       "      <td>AICHI KEN</td>\n",
       "      <td>TOYOTA SHI</td>\n",
       "      <td>AKIBACHO</td>\n",
       "      <td>137.165974</td>\n",
       "      <td>35.063098</td>\n",
       "    </tr>\n",
       "    <tr>\n",
       "      <th>4</th>\n",
       "      <td>4710835</td>\n",
       "      <td>AICHI KEN</td>\n",
       "      <td>TOYOTA SHI</td>\n",
       "      <td>AKEBONOCHO</td>\n",
       "      <td>137.133589</td>\n",
       "      <td>35.05884</td>\n",
       "    </tr>\n",
       "  </tbody>\n",
       "</table>\n",
       "</div>"
      ],
      "text/plain": [
       "   Postcode Prefecture        City                  Area    Latitude  \\\n",
       "0   4710000  AICHI KEN  TOYOTA SHI  IKANIKEISAIGANAIBAAI  137.310677   \n",
       "1   4710052  AICHI KEN  TOYOTA SHI             AIZUMACHO  137.139678   \n",
       "2   4700335  AICHI KEN  TOYOTA SHI               AOKICHO  137.185037   \n",
       "3   4710873  AICHI KEN  TOYOTA SHI              AKIBACHO  137.165974   \n",
       "4   4710835  AICHI KEN  TOYOTA SHI            AKEBONOCHO  137.133589   \n",
       "\n",
       "  Longuitude  \n",
       "0  35.140814  \n",
       "1  35.104364  \n",
       "2  35.123342  \n",
       "3  35.063098  \n",
       "4   35.05884  "
      ]
     },
     "execution_count": 133,
     "metadata": {},
     "output_type": "execute_result"
    }
   ],
   "source": [
    "df = pd.merge(df, df_lat_long, on='Postcode')\n",
    "df.head()"
   ]
  },
  {
   "cell_type": "code",
   "execution_count": null,
   "metadata": {},
   "outputs": [],
   "source": []
  }
 ],
 "metadata": {
  "kernelspec": {
   "display_name": "Python 3",
   "language": "python",
   "name": "python3"
  },
  "language_info": {
   "codemirror_mode": {
    "name": "ipython",
    "version": 3
   },
   "file_extension": ".py",
   "mimetype": "text/x-python",
   "name": "python",
   "nbconvert_exporter": "python",
   "pygments_lexer": "ipython3",
   "version": "3.7.3"
  }
 },
 "nbformat": 4,
 "nbformat_minor": 2
}
