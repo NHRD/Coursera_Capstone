{
 "cells": [
  {
   "cell_type": "markdown",
   "metadata": {},
   "source": [
    "# Capstone Project:The Battle of Neighborhoods "
   ]
  },
  {
   "cell_type": "markdown",
   "metadata": {},
   "source": [
    "## 1) Background"
   ]
  },
  {
   "cell_type": "markdown",
   "metadata": {},
   "source": [
    "I want to go back to my home town Toyota-city. My wife's dream is to open a resturant.  \n",
    "So to go back my home town, I should show the potential of Toyota-city for new resturant."
   ]
  },
  {
   "cell_type": "markdown",
   "metadata": {},
   "source": [
    "## 2) Problem"
   ]
  },
  {
   "cell_type": "markdown",
   "metadata": {},
   "source": [
    "The idea of this study is to show the potential of Toyota-city for new resturant by providing data about the income and population of each neighborhood as well as the competitors in the same regions."
   ]
  },
  {
   "cell_type": "markdown",
   "metadata": {},
   "source": [
    "## 3) Data"
   ]
  },
  {
   "cell_type": "code",
   "execution_count": 107,
   "metadata": {},
   "outputs": [],
   "source": [
    "import pandas as pd\n",
    "import numpy as np\n",
    "import urllib.request, urllib.error\n",
    "import xml.etree.ElementTree"
   ]
  },
  {
   "cell_type": "code",
   "execution_count": 108,
   "metadata": {},
   "outputs": [
    {
     "data": {
      "text/html": [
       "<div>\n",
       "<style scoped>\n",
       "    .dataframe tbody tr th:only-of-type {\n",
       "        vertical-align: middle;\n",
       "    }\n",
       "\n",
       "    .dataframe tbody tr th {\n",
       "        vertical-align: top;\n",
       "    }\n",
       "\n",
       "    .dataframe thead th {\n",
       "        text-align: right;\n",
       "    }\n",
       "</style>\n",
       "<table border=\"1\" class=\"dataframe\">\n",
       "  <thead>\n",
       "    <tr style=\"text-align: right;\">\n",
       "      <th></th>\n",
       "      <th>Postcode</th>\n",
       "      <th>Prefecture</th>\n",
       "      <th>City</th>\n",
       "      <th>Area</th>\n",
       "    </tr>\n",
       "  </thead>\n",
       "  <tbody>\n",
       "    <tr>\n",
       "      <th>0</th>\n",
       "      <td>600000</td>\n",
       "      <td>HOKKAIDO</td>\n",
       "      <td>SAPPORO SHI CHUO KU</td>\n",
       "      <td>IKANIKEISAIGANAIBAAI</td>\n",
       "    </tr>\n",
       "    <tr>\n",
       "      <th>1</th>\n",
       "      <td>640941</td>\n",
       "      <td>HOKKAIDO</td>\n",
       "      <td>SAPPORO SHI CHUO KU</td>\n",
       "      <td>ASAHIGAOKA</td>\n",
       "    </tr>\n",
       "    <tr>\n",
       "      <th>2</th>\n",
       "      <td>600041</td>\n",
       "      <td>HOKKAIDO</td>\n",
       "      <td>SAPPORO SHI CHUO KU</td>\n",
       "      <td>ODORIHIGASHI</td>\n",
       "    </tr>\n",
       "    <tr>\n",
       "      <th>3</th>\n",
       "      <td>600042</td>\n",
       "      <td>HOKKAIDO</td>\n",
       "      <td>SAPPORO SHI CHUO KU</td>\n",
       "      <td>ODORINISHI(1-19-CHOME)</td>\n",
       "    </tr>\n",
       "    <tr>\n",
       "      <th>4</th>\n",
       "      <td>640820</td>\n",
       "      <td>HOKKAIDO</td>\n",
       "      <td>SAPPORO SHI CHUO KU</td>\n",
       "      <td>ODORINISHI(20-28-CHOME)</td>\n",
       "    </tr>\n",
       "    <tr>\n",
       "      <th>5</th>\n",
       "      <td>600031</td>\n",
       "      <td>HOKKAIDO</td>\n",
       "      <td>SAPPORO SHI CHUO KU</td>\n",
       "      <td>KITA1-JOHIGASHI</td>\n",
       "    </tr>\n",
       "    <tr>\n",
       "      <th>6</th>\n",
       "      <td>600001</td>\n",
       "      <td>HOKKAIDO</td>\n",
       "      <td>SAPPORO SHI CHUO KU</td>\n",
       "      <td>KITA1-JONISHI(1-19-CHOME)</td>\n",
       "    </tr>\n",
       "    <tr>\n",
       "      <th>7</th>\n",
       "      <td>640821</td>\n",
       "      <td>HOKKAIDO</td>\n",
       "      <td>SAPPORO SHI CHUO KU</td>\n",
       "      <td>KITA1-JONISHI(20-28-CHOME)</td>\n",
       "    </tr>\n",
       "    <tr>\n",
       "      <th>8</th>\n",
       "      <td>600032</td>\n",
       "      <td>HOKKAIDO</td>\n",
       "      <td>SAPPORO SHI CHUO KU</td>\n",
       "      <td>KITA2-JOHIGASHI</td>\n",
       "    </tr>\n",
       "    <tr>\n",
       "      <th>9</th>\n",
       "      <td>600002</td>\n",
       "      <td>HOKKAIDO</td>\n",
       "      <td>SAPPORO SHI CHUO KU</td>\n",
       "      <td>KITA2-JONISHI(1-19-CHOME)</td>\n",
       "    </tr>\n",
       "  </tbody>\n",
       "</table>\n",
       "</div>"
      ],
      "text/plain": [
       "   Postcode Prefecture                 City                        Area\n",
       "0    600000   HOKKAIDO  SAPPORO SHI CHUO KU        IKANIKEISAIGANAIBAAI\n",
       "1    640941   HOKKAIDO  SAPPORO SHI CHUO KU                  ASAHIGAOKA\n",
       "2    600041   HOKKAIDO  SAPPORO SHI CHUO KU                ODORIHIGASHI\n",
       "3    600042   HOKKAIDO  SAPPORO SHI CHUO KU      ODORINISHI(1-19-CHOME)\n",
       "4    640820   HOKKAIDO  SAPPORO SHI CHUO KU     ODORINISHI(20-28-CHOME)\n",
       "5    600031   HOKKAIDO  SAPPORO SHI CHUO KU             KITA1-JOHIGASHI\n",
       "6    600001   HOKKAIDO  SAPPORO SHI CHUO KU   KITA1-JONISHI(1-19-CHOME)\n",
       "7    640821   HOKKAIDO  SAPPORO SHI CHUO KU  KITA1-JONISHI(20-28-CHOME)\n",
       "8    600032   HOKKAIDO  SAPPORO SHI CHUO KU             KITA2-JOHIGASHI\n",
       "9    600002   HOKKAIDO  SAPPORO SHI CHUO KU   KITA2-JONISHI(1-19-CHOME)"
      ]
     },
     "execution_count": 108,
     "metadata": {},
     "output_type": "execute_result"
    }
   ],
   "source": [
    "df = pd.read_csv(\"KEN_ALL_ROME.CSV\")\n",
    "df.head(10)"
   ]
  },
  {
   "cell_type": "code",
   "execution_count": 112,
   "metadata": {},
   "outputs": [
    {
     "data": {
      "text/html": [
       "<div>\n",
       "<style scoped>\n",
       "    .dataframe tbody tr th:only-of-type {\n",
       "        vertical-align: middle;\n",
       "    }\n",
       "\n",
       "    .dataframe tbody tr th {\n",
       "        vertical-align: top;\n",
       "    }\n",
       "\n",
       "    .dataframe thead th {\n",
       "        text-align: right;\n",
       "    }\n",
       "</style>\n",
       "<table border=\"1\" class=\"dataframe\">\n",
       "  <thead>\n",
       "    <tr style=\"text-align: right;\">\n",
       "      <th></th>\n",
       "      <th>Postcode</th>\n",
       "      <th>Prefecture</th>\n",
       "      <th>City</th>\n",
       "      <th>Area</th>\n",
       "    </tr>\n",
       "  </thead>\n",
       "  <tbody>\n",
       "    <tr>\n",
       "      <th>0</th>\n",
       "      <td>4710000</td>\n",
       "      <td>AICHI KEN</td>\n",
       "      <td>TOYOTA SHI</td>\n",
       "      <td>IKANIKEISAIGANAIBAAI</td>\n",
       "    </tr>\n",
       "    <tr>\n",
       "      <th>1</th>\n",
       "      <td>4710052</td>\n",
       "      <td>AICHI KEN</td>\n",
       "      <td>TOYOTA SHI</td>\n",
       "      <td>AIZUMACHO</td>\n",
       "    </tr>\n",
       "    <tr>\n",
       "      <th>2</th>\n",
       "      <td>4700335</td>\n",
       "      <td>AICHI KEN</td>\n",
       "      <td>TOYOTA SHI</td>\n",
       "      <td>AOKICHO</td>\n",
       "    </tr>\n",
       "    <tr>\n",
       "      <th>3</th>\n",
       "      <td>4710873</td>\n",
       "      <td>AICHI KEN</td>\n",
       "      <td>TOYOTA SHI</td>\n",
       "      <td>AKIBACHO</td>\n",
       "    </tr>\n",
       "    <tr>\n",
       "      <th>4</th>\n",
       "      <td>4710835</td>\n",
       "      <td>AICHI KEN</td>\n",
       "      <td>TOYOTA SHI</td>\n",
       "      <td>AKEBONOCHO</td>\n",
       "    </tr>\n",
       "  </tbody>\n",
       "</table>\n",
       "</div>"
      ],
      "text/plain": [
       "   Postcode Prefecture        City                  Area\n",
       "0   4710000  AICHI KEN  TOYOTA SHI  IKANIKEISAIGANAIBAAI\n",
       "1   4710052  AICHI KEN  TOYOTA SHI             AIZUMACHO\n",
       "2   4700335  AICHI KEN  TOYOTA SHI               AOKICHO\n",
       "3   4710873  AICHI KEN  TOYOTA SHI              AKIBACHO\n",
       "4   4710835  AICHI KEN  TOYOTA SHI            AKEBONOCHO"
      ]
     },
     "execution_count": 112,
     "metadata": {},
     "output_type": "execute_result"
    }
   ],
   "source": [
    "df = df[df['City'] == 'TOYOTA SHI'].reset_index()\n",
    "df = df[['Postcode', 'Prefecture', 'City', 'Area']]\n",
    "df.head()"
   ]
  },
  {
   "cell_type": "code",
   "execution_count": 114,
   "metadata": {},
   "outputs": [
    {
     "ename": "SyntaxError",
     "evalue": "invalid syntax (<ipython-input-114-2104927d5a19>, line 18)",
     "output_type": "error",
     "traceback": [
      "\u001b[1;36m  File \u001b[1;32m\"<ipython-input-114-2104927d5a19>\"\u001b[1;36m, line \u001b[1;32m18\u001b[0m\n\u001b[1;33m    df_lat_long = pd.DataFrame(lat_long, columns=['Postcode', 'Latitude', 'Longuitude'])\u001b[0m\n\u001b[1;37m              ^\u001b[0m\n\u001b[1;31mSyntaxError\u001b[0m\u001b[1;31m:\u001b[0m invalid syntax\n"
     ]
    }
   ],
   "source": [
    "API_URL = 'http://geoapi.heartrails.com/api/xml?method=searchByPostal&postal='\n",
    "lat_long = []\n",
    "\n",
    "def geo(zip_code):\n",
    "    zip = str(zip_code)\n",
    "    response = urllib.request.urlopen(API_URL + zip)\n",
    "    xml_result = response.read()\n",
    "    response.close()\n",
    "    elem = xml.etree.ElementTree.fromstring(xml_result)\n",
    "    lat = elem.findtext(\".//x\")\n",
    "    long = elem.findtext(\".//y\")\n",
    "    data = [zip_code, lat, long]\n",
    "    return data\n",
    "\n",
    "for i in range(len(df)):\n",
    "    lat_long.append(geo(df.Postcode[i])\n",
    "\n",
    "df_lat_long = pd.DataFrame(lat_long, columns=['Postcode', 'Latitude', 'Longuitude'])  \n",
    "#df_lat_long.head()"
   ]
  },
  {
   "cell_type": "code",
   "execution_count": 98,
   "metadata": {},
   "outputs": [
    {
     "ename": "ValueError",
     "evalue": "You are trying to merge on int64 and object columns. If you wish to proceed you should use pd.concat",
     "output_type": "error",
     "traceback": [
      "\u001b[1;31m---------------------------------------------------------------------------\u001b[0m",
      "\u001b[1;31mValueError\u001b[0m                                Traceback (most recent call last)",
      "\u001b[1;32m<ipython-input-98-f114a49ff38f>\u001b[0m in \u001b[0;36m<module>\u001b[1;34m\u001b[0m\n\u001b[1;32m----> 1\u001b[1;33m \u001b[0mdf\u001b[0m \u001b[1;33m=\u001b[0m \u001b[0mpd\u001b[0m\u001b[1;33m.\u001b[0m\u001b[0mmerge\u001b[0m\u001b[1;33m(\u001b[0m\u001b[0mdf\u001b[0m\u001b[1;33m,\u001b[0m \u001b[0mdf_lat_long\u001b[0m\u001b[1;33m,\u001b[0m \u001b[0mon\u001b[0m\u001b[1;33m=\u001b[0m\u001b[1;34m'Postcode'\u001b[0m\u001b[1;33m)\u001b[0m\u001b[1;33m\u001b[0m\u001b[1;33m\u001b[0m\u001b[0m\n\u001b[0m",
      "\u001b[1;32m~\\Anaconda3\\lib\\site-packages\\pandas\\core\\reshape\\merge.py\u001b[0m in \u001b[0;36mmerge\u001b[1;34m(left, right, how, on, left_on, right_on, left_index, right_index, sort, suffixes, copy, indicator, validate)\u001b[0m\n\u001b[0;32m     45\u001b[0m                          \u001b[0mright_index\u001b[0m\u001b[1;33m=\u001b[0m\u001b[0mright_index\u001b[0m\u001b[1;33m,\u001b[0m \u001b[0msort\u001b[0m\u001b[1;33m=\u001b[0m\u001b[0msort\u001b[0m\u001b[1;33m,\u001b[0m \u001b[0msuffixes\u001b[0m\u001b[1;33m=\u001b[0m\u001b[0msuffixes\u001b[0m\u001b[1;33m,\u001b[0m\u001b[1;33m\u001b[0m\u001b[1;33m\u001b[0m\u001b[0m\n\u001b[0;32m     46\u001b[0m                          \u001b[0mcopy\u001b[0m\u001b[1;33m=\u001b[0m\u001b[0mcopy\u001b[0m\u001b[1;33m,\u001b[0m \u001b[0mindicator\u001b[0m\u001b[1;33m=\u001b[0m\u001b[0mindicator\u001b[0m\u001b[1;33m,\u001b[0m\u001b[1;33m\u001b[0m\u001b[1;33m\u001b[0m\u001b[0m\n\u001b[1;32m---> 47\u001b[1;33m                          validate=validate)\n\u001b[0m\u001b[0;32m     48\u001b[0m     \u001b[1;32mreturn\u001b[0m \u001b[0mop\u001b[0m\u001b[1;33m.\u001b[0m\u001b[0mget_result\u001b[0m\u001b[1;33m(\u001b[0m\u001b[1;33m)\u001b[0m\u001b[1;33m\u001b[0m\u001b[1;33m\u001b[0m\u001b[0m\n\u001b[0;32m     49\u001b[0m \u001b[1;33m\u001b[0m\u001b[0m\n",
      "\u001b[1;32m~\\Anaconda3\\lib\\site-packages\\pandas\\core\\reshape\\merge.py\u001b[0m in \u001b[0;36m__init__\u001b[1;34m(self, left, right, how, on, left_on, right_on, axis, left_index, right_index, sort, suffixes, copy, indicator, validate)\u001b[0m\n\u001b[0;32m    531\u001b[0m         \u001b[1;31m# validate the merge keys dtypes. We may need to coerce\u001b[0m\u001b[1;33m\u001b[0m\u001b[1;33m\u001b[0m\u001b[1;33m\u001b[0m\u001b[0m\n\u001b[0;32m    532\u001b[0m         \u001b[1;31m# to avoid incompat dtypes\u001b[0m\u001b[1;33m\u001b[0m\u001b[1;33m\u001b[0m\u001b[1;33m\u001b[0m\u001b[0m\n\u001b[1;32m--> 533\u001b[1;33m         \u001b[0mself\u001b[0m\u001b[1;33m.\u001b[0m\u001b[0m_maybe_coerce_merge_keys\u001b[0m\u001b[1;33m(\u001b[0m\u001b[1;33m)\u001b[0m\u001b[1;33m\u001b[0m\u001b[1;33m\u001b[0m\u001b[0m\n\u001b[0m\u001b[0;32m    534\u001b[0m \u001b[1;33m\u001b[0m\u001b[0m\n\u001b[0;32m    535\u001b[0m         \u001b[1;31m# If argument passed to validate,\u001b[0m\u001b[1;33m\u001b[0m\u001b[1;33m\u001b[0m\u001b[1;33m\u001b[0m\u001b[0m\n",
      "\u001b[1;32m~\\Anaconda3\\lib\\site-packages\\pandas\\core\\reshape\\merge.py\u001b[0m in \u001b[0;36m_maybe_coerce_merge_keys\u001b[1;34m(self)\u001b[0m\n\u001b[0;32m    978\u001b[0m                       (inferred_right in string_types and\n\u001b[0;32m    979\u001b[0m                        inferred_left not in string_types)):\n\u001b[1;32m--> 980\u001b[1;33m                     \u001b[1;32mraise\u001b[0m \u001b[0mValueError\u001b[0m\u001b[1;33m(\u001b[0m\u001b[0mmsg\u001b[0m\u001b[1;33m)\u001b[0m\u001b[1;33m\u001b[0m\u001b[1;33m\u001b[0m\u001b[0m\n\u001b[0m\u001b[0;32m    981\u001b[0m \u001b[1;33m\u001b[0m\u001b[0m\n\u001b[0;32m    982\u001b[0m             \u001b[1;31m# datetimelikes must match exactly\u001b[0m\u001b[1;33m\u001b[0m\u001b[1;33m\u001b[0m\u001b[1;33m\u001b[0m\u001b[0m\n",
      "\u001b[1;31mValueError\u001b[0m: You are trying to merge on int64 and object columns. If you wish to proceed you should use pd.concat"
     ]
    }
   ],
   "source": [
    "df = pd.merge(df, df_lat_long, on='Postcode')"
   ]
  },
  {
   "cell_type": "code",
   "execution_count": null,
   "metadata": {},
   "outputs": [],
   "source": []
  }
 ],
 "metadata": {
  "kernelspec": {
   "display_name": "Python 3",
   "language": "python",
   "name": "python3"
  },
  "language_info": {
   "codemirror_mode": {
    "name": "ipython",
    "version": 3
   },
   "file_extension": ".py",
   "mimetype": "text/x-python",
   "name": "python",
   "nbconvert_exporter": "python",
   "pygments_lexer": "ipython3",
   "version": "3.7.3"
  }
 },
 "nbformat": 4,
 "nbformat_minor": 2
}
