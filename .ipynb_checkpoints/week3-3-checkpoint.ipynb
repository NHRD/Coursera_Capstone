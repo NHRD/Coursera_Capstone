{
 "cells": [
  {
   "cell_type": "markdown",
   "metadata": {},
   "source": [
    "# Week3 assignment"
   ]
  },
  {
   "cell_type": "markdown",
   "metadata": {},
   "source": [
    "#### Import pandas"
   ]
  },
  {
   "cell_type": "code",
   "execution_count": 4,
   "metadata": {},
   "outputs": [],
   "source": [
    "import pandas as pd"
   ]
  },
  {
   "cell_type": "markdown",
   "metadata": {},
   "source": [
    "#### import HTML data by pandas read_html method."
   ]
  },
  {
   "cell_type": "code",
   "execution_count": 5,
   "metadata": {},
   "outputs": [
    {
     "data": {
      "text/html": [
       "<div>\n",
       "<style scoped>\n",
       "    .dataframe tbody tr th:only-of-type {\n",
       "        vertical-align: middle;\n",
       "    }\n",
       "\n",
       "    .dataframe tbody tr th {\n",
       "        vertical-align: top;\n",
       "    }\n",
       "\n",
       "    .dataframe thead th {\n",
       "        text-align: right;\n",
       "    }\n",
       "</style>\n",
       "<table border=\"1\" class=\"dataframe\">\n",
       "  <thead>\n",
       "    <tr style=\"text-align: right;\">\n",
       "      <th></th>\n",
       "      <th>Postcode</th>\n",
       "      <th>Borough</th>\n",
       "      <th>Neighbourhood</th>\n",
       "    </tr>\n",
       "  </thead>\n",
       "  <tbody>\n",
       "    <tr>\n",
       "      <th>0</th>\n",
       "      <td>M1A</td>\n",
       "      <td>Not assigned</td>\n",
       "      <td>Not assigned</td>\n",
       "    </tr>\n",
       "    <tr>\n",
       "      <th>1</th>\n",
       "      <td>M2A</td>\n",
       "      <td>Not assigned</td>\n",
       "      <td>Not assigned</td>\n",
       "    </tr>\n",
       "    <tr>\n",
       "      <th>2</th>\n",
       "      <td>M3A</td>\n",
       "      <td>North York</td>\n",
       "      <td>Parkwoods</td>\n",
       "    </tr>\n",
       "    <tr>\n",
       "      <th>3</th>\n",
       "      <td>M4A</td>\n",
       "      <td>North York</td>\n",
       "      <td>Victoria Village</td>\n",
       "    </tr>\n",
       "    <tr>\n",
       "      <th>4</th>\n",
       "      <td>M5A</td>\n",
       "      <td>Downtown Toronto</td>\n",
       "      <td>Harbourfront</td>\n",
       "    </tr>\n",
       "  </tbody>\n",
       "</table>\n",
       "</div>"
      ],
      "text/plain": [
       "  Postcode           Borough     Neighbourhood\n",
       "0      M1A      Not assigned      Not assigned\n",
       "1      M2A      Not assigned      Not assigned\n",
       "2      M3A        North York         Parkwoods\n",
       "3      M4A        North York  Victoria Village\n",
       "4      M5A  Downtown Toronto      Harbourfront"
      ]
     },
     "execution_count": 5,
     "metadata": {},
     "output_type": "execute_result"
    }
   ],
   "source": [
    "data = pd.read_html('https://en.wikipedia.org/wiki/List_of_postal_codes_of_Canada:_M')\n",
    "df = pd.DataFrame(data[0])\n",
    "df.head()"
   ]
  },
  {
   "cell_type": "markdown",
   "metadata": {},
   "source": [
    "#### ignore cells without Borough."
   ]
  },
  {
   "cell_type": "code",
   "execution_count": 6,
   "metadata": {},
   "outputs": [
    {
     "data": {
      "text/html": [
       "<div>\n",
       "<style scoped>\n",
       "    .dataframe tbody tr th:only-of-type {\n",
       "        vertical-align: middle;\n",
       "    }\n",
       "\n",
       "    .dataframe tbody tr th {\n",
       "        vertical-align: top;\n",
       "    }\n",
       "\n",
       "    .dataframe thead th {\n",
       "        text-align: right;\n",
       "    }\n",
       "</style>\n",
       "<table border=\"1\" class=\"dataframe\">\n",
       "  <thead>\n",
       "    <tr style=\"text-align: right;\">\n",
       "      <th></th>\n",
       "      <th>Postcode</th>\n",
       "      <th>Borough</th>\n",
       "      <th>Neighbourhood</th>\n",
       "    </tr>\n",
       "  </thead>\n",
       "  <tbody>\n",
       "    <tr>\n",
       "      <th>0</th>\n",
       "      <td>M3A</td>\n",
       "      <td>North York</td>\n",
       "      <td>Parkwoods</td>\n",
       "    </tr>\n",
       "    <tr>\n",
       "      <th>1</th>\n",
       "      <td>M4A</td>\n",
       "      <td>North York</td>\n",
       "      <td>Victoria Village</td>\n",
       "    </tr>\n",
       "    <tr>\n",
       "      <th>2</th>\n",
       "      <td>M5A</td>\n",
       "      <td>Downtown Toronto</td>\n",
       "      <td>Harbourfront</td>\n",
       "    </tr>\n",
       "    <tr>\n",
       "      <th>3</th>\n",
       "      <td>M5A</td>\n",
       "      <td>Downtown Toronto</td>\n",
       "      <td>Regent Park</td>\n",
       "    </tr>\n",
       "    <tr>\n",
       "      <th>4</th>\n",
       "      <td>M6A</td>\n",
       "      <td>North York</td>\n",
       "      <td>Lawrence Heights</td>\n",
       "    </tr>\n",
       "  </tbody>\n",
       "</table>\n",
       "</div>"
      ],
      "text/plain": [
       "  Postcode           Borough     Neighbourhood\n",
       "0      M3A        North York         Parkwoods\n",
       "1      M4A        North York  Victoria Village\n",
       "2      M5A  Downtown Toronto      Harbourfront\n",
       "3      M5A  Downtown Toronto       Regent Park\n",
       "4      M6A        North York  Lawrence Heights"
      ]
     },
     "execution_count": 6,
     "metadata": {},
     "output_type": "execute_result"
    }
   ],
   "source": [
    "df = df[df['Borough'] != 'Not assigned'].reset_index()\n",
    "df = df[['Postcode','Borough','Neighbourhood']]\n",
    "df.head()"
   ]
  },
  {
   "cell_type": "markdown",
   "metadata": {},
   "source": [
    "#### check the value of Neighbourhood.\n",
    "#### if it is 'Not assigned' add Borough."
   ]
  },
  {
   "cell_type": "code",
   "execution_count": 7,
   "metadata": {},
   "outputs": [
    {
     "name": "stdout",
     "output_type": "stream",
     "text": [
      "Queen's Park\n"
     ]
    }
   ],
   "source": [
    "for i in range(len(df)):\n",
    "    if df.Neighbourhood[i] == 'Not assigned':\n",
    "        df.Neighbourhood[i] = df.Borough[i]\n",
    "        print(df.Neighbourhood[i])"
   ]
  },
  {
   "cell_type": "markdown",
   "metadata": {},
   "source": [
    "#### combine in Neighbours with the same Postcode to one row with the neighborhoods separated with a comma."
   ]
  },
  {
   "cell_type": "code",
   "execution_count": 8,
   "metadata": {},
   "outputs": [
    {
     "data": {
      "text/html": [
       "<div>\n",
       "<style scoped>\n",
       "    .dataframe tbody tr th:only-of-type {\n",
       "        vertical-align: middle;\n",
       "    }\n",
       "\n",
       "    .dataframe tbody tr th {\n",
       "        vertical-align: top;\n",
       "    }\n",
       "\n",
       "    .dataframe thead th {\n",
       "        text-align: right;\n",
       "    }\n",
       "</style>\n",
       "<table border=\"1\" class=\"dataframe\">\n",
       "  <thead>\n",
       "    <tr style=\"text-align: right;\">\n",
       "      <th></th>\n",
       "      <th>Neighbourhood</th>\n",
       "    </tr>\n",
       "    <tr>\n",
       "      <th>Postcode</th>\n",
       "      <th></th>\n",
       "    </tr>\n",
       "  </thead>\n",
       "  <tbody>\n",
       "    <tr>\n",
       "      <th>M1B</th>\n",
       "      <td>Rouge,Malvern</td>\n",
       "    </tr>\n",
       "    <tr>\n",
       "      <th>M1C</th>\n",
       "      <td>Highland Creek,Rouge Hill,Port Union</td>\n",
       "    </tr>\n",
       "    <tr>\n",
       "      <th>M1E</th>\n",
       "      <td>Guildwood,Morningside,West Hill</td>\n",
       "    </tr>\n",
       "    <tr>\n",
       "      <th>M1G</th>\n",
       "      <td>Woburn</td>\n",
       "    </tr>\n",
       "    <tr>\n",
       "      <th>M1H</th>\n",
       "      <td>Cedarbrae</td>\n",
       "    </tr>\n",
       "    <tr>\n",
       "      <th>M1J</th>\n",
       "      <td>Scarborough Village</td>\n",
       "    </tr>\n",
       "    <tr>\n",
       "      <th>M1K</th>\n",
       "      <td>East Birchmount Park,Ionview,Kennedy Park</td>\n",
       "    </tr>\n",
       "    <tr>\n",
       "      <th>M1L</th>\n",
       "      <td>Clairlea,Golden Mile,Oakridge</td>\n",
       "    </tr>\n",
       "    <tr>\n",
       "      <th>M1M</th>\n",
       "      <td>Cliffcrest,Cliffside,Scarborough Village West</td>\n",
       "    </tr>\n",
       "    <tr>\n",
       "      <th>M1N</th>\n",
       "      <td>Birch Cliff,Cliffside West</td>\n",
       "    </tr>\n",
       "  </tbody>\n",
       "</table>\n",
       "</div>"
      ],
      "text/plain": [
       "                                          Neighbourhood\n",
       "Postcode                                               \n",
       "M1B                                       Rouge,Malvern\n",
       "M1C                Highland Creek,Rouge Hill,Port Union\n",
       "M1E                     Guildwood,Morningside,West Hill\n",
       "M1G                                              Woburn\n",
       "M1H                                           Cedarbrae\n",
       "M1J                                 Scarborough Village\n",
       "M1K           East Birchmount Park,Ionview,Kennedy Park\n",
       "M1L                       Clairlea,Golden Mile,Oakridge\n",
       "M1M       Cliffcrest,Cliffside,Scarborough Village West\n",
       "M1N                          Birch Cliff,Cliffside West"
      ]
     },
     "execution_count": 8,
     "metadata": {},
     "output_type": "execute_result"
    }
   ],
   "source": [
    "df2 = df.groupby('Postcode').Neighbourhood.apply(lambda s : ','.join(s))\n",
    "df2 = pd.DataFrame(df2)\n",
    "df2.head(10)"
   ]
  },
  {
   "cell_type": "code",
   "execution_count": 9,
   "metadata": {},
   "outputs": [
    {
     "data": {
      "text/html": [
       "<div>\n",
       "<style scoped>\n",
       "    .dataframe tbody tr th:only-of-type {\n",
       "        vertical-align: middle;\n",
       "    }\n",
       "\n",
       "    .dataframe tbody tr th {\n",
       "        vertical-align: top;\n",
       "    }\n",
       "\n",
       "    .dataframe thead th {\n",
       "        text-align: right;\n",
       "    }\n",
       "</style>\n",
       "<table border=\"1\" class=\"dataframe\">\n",
       "  <thead>\n",
       "    <tr style=\"text-align: right;\">\n",
       "      <th></th>\n",
       "      <th>Postcode</th>\n",
       "      <th>Borough</th>\n",
       "    </tr>\n",
       "  </thead>\n",
       "  <tbody>\n",
       "    <tr>\n",
       "      <th>0</th>\n",
       "      <td>M3A</td>\n",
       "      <td>North York</td>\n",
       "    </tr>\n",
       "    <tr>\n",
       "      <th>1</th>\n",
       "      <td>M4A</td>\n",
       "      <td>North York</td>\n",
       "    </tr>\n",
       "    <tr>\n",
       "      <th>2</th>\n",
       "      <td>M5A</td>\n",
       "      <td>Downtown Toronto</td>\n",
       "    </tr>\n",
       "    <tr>\n",
       "      <th>3</th>\n",
       "      <td>M5A</td>\n",
       "      <td>Downtown Toronto</td>\n",
       "    </tr>\n",
       "    <tr>\n",
       "      <th>4</th>\n",
       "      <td>M6A</td>\n",
       "      <td>North York</td>\n",
       "    </tr>\n",
       "  </tbody>\n",
       "</table>\n",
       "</div>"
      ],
      "text/plain": [
       "  Postcode           Borough\n",
       "0      M3A        North York\n",
       "1      M4A        North York\n",
       "2      M5A  Downtown Toronto\n",
       "3      M5A  Downtown Toronto\n",
       "4      M6A        North York"
      ]
     },
     "execution_count": 9,
     "metadata": {},
     "output_type": "execute_result"
    }
   ],
   "source": [
    "df3 = df[['Postcode','Borough']]\n",
    "df3.head()"
   ]
  },
  {
   "cell_type": "code",
   "execution_count": 10,
   "metadata": {},
   "outputs": [
    {
     "data": {
      "text/html": [
       "<div>\n",
       "<style scoped>\n",
       "    .dataframe tbody tr th:only-of-type {\n",
       "        vertical-align: middle;\n",
       "    }\n",
       "\n",
       "    .dataframe tbody tr th {\n",
       "        vertical-align: top;\n",
       "    }\n",
       "\n",
       "    .dataframe thead th {\n",
       "        text-align: right;\n",
       "    }\n",
       "</style>\n",
       "<table border=\"1\" class=\"dataframe\">\n",
       "  <thead>\n",
       "    <tr style=\"text-align: right;\">\n",
       "      <th></th>\n",
       "      <th>Postcode</th>\n",
       "      <th>Borough</th>\n",
       "      <th>Neighbourhood</th>\n",
       "    </tr>\n",
       "  </thead>\n",
       "  <tbody>\n",
       "    <tr>\n",
       "      <th>0</th>\n",
       "      <td>M3A</td>\n",
       "      <td>North York</td>\n",
       "      <td>Parkwoods</td>\n",
       "    </tr>\n",
       "    <tr>\n",
       "      <th>1</th>\n",
       "      <td>M4A</td>\n",
       "      <td>North York</td>\n",
       "      <td>Victoria Village</td>\n",
       "    </tr>\n",
       "    <tr>\n",
       "      <th>2</th>\n",
       "      <td>M5A</td>\n",
       "      <td>Downtown Toronto</td>\n",
       "      <td>Harbourfront,Regent Park</td>\n",
       "    </tr>\n",
       "    <tr>\n",
       "      <th>4</th>\n",
       "      <td>M6A</td>\n",
       "      <td>North York</td>\n",
       "      <td>Lawrence Heights,Lawrence Manor</td>\n",
       "    </tr>\n",
       "    <tr>\n",
       "      <th>6</th>\n",
       "      <td>M7A</td>\n",
       "      <td>Queen's Park</td>\n",
       "      <td>Queen's Park</td>\n",
       "    </tr>\n",
       "  </tbody>\n",
       "</table>\n",
       "</div>"
      ],
      "text/plain": [
       "  Postcode           Borough                    Neighbourhood\n",
       "0      M3A        North York                        Parkwoods\n",
       "1      M4A        North York                 Victoria Village\n",
       "2      M5A  Downtown Toronto         Harbourfront,Regent Park\n",
       "4      M6A        North York  Lawrence Heights,Lawrence Manor\n",
       "6      M7A      Queen's Park                     Queen's Park"
      ]
     },
     "execution_count": 10,
     "metadata": {},
     "output_type": "execute_result"
    }
   ],
   "source": [
    "df = pd.merge(df3, df2, on='Postcode').drop_duplicates()\n",
    "df.head()"
   ]
  },
  {
   "cell_type": "markdown",
   "metadata": {},
   "source": [
    "#### check the shape of dataframe."
   ]
  },
  {
   "cell_type": "code",
   "execution_count": 11,
   "metadata": {},
   "outputs": [
    {
     "data": {
      "text/plain": [
       "(103, 3)"
      ]
     },
     "execution_count": 11,
     "metadata": {},
     "output_type": "execute_result"
    }
   ],
   "source": [
    "df.shape"
   ]
  },
  {
   "cell_type": "markdown",
   "metadata": {},
   "source": [
    "#### install geocoder"
   ]
  },
  {
   "cell_type": "code",
   "execution_count": 3,
   "metadata": {},
   "outputs": [
    {
     "name": "stdout",
     "output_type": "stream",
     "text": [
      "Collecting geocoder\n",
      "\u001b[?25l  Downloading https://files.pythonhosted.org/packages/4f/6b/13166c909ad2f2d76b929a4227c952630ebaf0d729f6317eb09cbceccbab/geocoder-1.38.1-py2.py3-none-any.whl (98kB)\n",
      "\u001b[K     |████████████████████████████████| 102kB 1.0MB/s ta 0:00:01\n",
      "\u001b[?25hRequirement already satisfied: click in /home/naohisa/anaconda3/lib/python3.7/site-packages (from geocoder) (7.0)\n",
      "Requirement already satisfied: requests in /home/naohisa/anaconda3/lib/python3.7/site-packages (from geocoder) (2.22.0)\n",
      "Requirement already satisfied: six in /home/naohisa/anaconda3/lib/python3.7/site-packages (from geocoder) (1.12.0)\n",
      "Collecting ratelim (from geocoder)\n",
      "  Downloading https://files.pythonhosted.org/packages/f2/98/7e6d147fd16a10a5f821db6e25f192265d6ecca3d82957a4fdd592cad49c/ratelim-0.1.6-py2.py3-none-any.whl\n",
      "Requirement already satisfied: future in /home/naohisa/anaconda3/lib/python3.7/site-packages (from geocoder) (0.17.1)\n",
      "Requirement already satisfied: urllib3!=1.25.0,!=1.25.1,<1.26,>=1.21.1 in /home/naohisa/anaconda3/lib/python3.7/site-packages (from requests->geocoder) (1.24.2)\n",
      "Requirement already satisfied: chardet<3.1.0,>=3.0.2 in /home/naohisa/anaconda3/lib/python3.7/site-packages (from requests->geocoder) (3.0.4)\n",
      "Requirement already satisfied: certifi>=2017.4.17 in /home/naohisa/anaconda3/lib/python3.7/site-packages (from requests->geocoder) (2019.6.16)\n",
      "Requirement already satisfied: idna<2.9,>=2.5 in /home/naohisa/anaconda3/lib/python3.7/site-packages (from requests->geocoder) (2.8)\n",
      "Requirement already satisfied: decorator in /home/naohisa/anaconda3/lib/python3.7/site-packages (from ratelim->geocoder) (4.4.0)\n",
      "Installing collected packages: ratelim, geocoder\n",
      "Successfully installed geocoder-1.38.1 ratelim-0.1.6\n"
     ]
    }
   ],
   "source": [
    "!pip install geocoder"
   ]
  },
  {
   "cell_type": "markdown",
   "metadata": {},
   "source": [
    "#### import module and define function to get latitudes and longitudes."
   ]
  },
  {
   "cell_type": "code",
   "execution_count": 31,
   "metadata": {},
   "outputs": [],
   "source": [
    "import geocoder # import geocoder\n",
    "\n",
    "def geo(postal_code, lat):\n",
    "    lat_lng_coords  = lat\n",
    "    # loop until you get the coordinates\n",
    "    while(lat_lng_coords is None):\n",
    "        g = geocoder.google('{}, Toronto, Ontario'.format(postal_code))\n",
    "        lat_lng_coords = g.latlng\n",
    "    \n",
    "    data = [lat_lng_coords[0], lat_lng_coords[1]]\n",
    "    \n",
    "    return data"
   ]
  },
  {
   "cell_type": "markdown",
   "metadata": {},
   "source": [
    "#### insert rows."
   ]
  },
  {
   "cell_type": "code",
   "execution_count": 43,
   "metadata": {},
   "outputs": [],
   "source": [
    "#df['latitude'] = ''\n",
    "#df['longitude'] = ''\n",
    "#df.head()"
   ]
  },
  {
   "cell_type": "markdown",
   "metadata": {},
   "source": [
    "#### run the function for all Post code."
   ]
  },
  {
   "cell_type": "code",
   "execution_count": null,
   "metadata": {},
   "outputs": [],
   "source": [
    "for i in range(len(df)):\n",
    "    # initialize your variable to Non\n",
    "    lat = None\n",
    "    geo(df.Postcode[i], lat)\n",
    "    df.latitude[i] = data[0]\n",
    "    df.longitude[i] = data[1]\n",
    "    print(i)\n",
    "df.head()"
   ]
  },
  {
   "cell_type": "code",
   "execution_count": 12,
   "metadata": {},
   "outputs": [
    {
     "data": {
      "text/html": [
       "<div>\n",
       "<style scoped>\n",
       "    .dataframe tbody tr th:only-of-type {\n",
       "        vertical-align: middle;\n",
       "    }\n",
       "\n",
       "    .dataframe tbody tr th {\n",
       "        vertical-align: top;\n",
       "    }\n",
       "\n",
       "    .dataframe thead th {\n",
       "        text-align: right;\n",
       "    }\n",
       "</style>\n",
       "<table border=\"1\" class=\"dataframe\">\n",
       "  <thead>\n",
       "    <tr style=\"text-align: right;\">\n",
       "      <th></th>\n",
       "      <th>Postcode</th>\n",
       "      <th>Latitude</th>\n",
       "      <th>Longitude</th>\n",
       "    </tr>\n",
       "  </thead>\n",
       "  <tbody>\n",
       "    <tr>\n",
       "      <th>0</th>\n",
       "      <td>M1B</td>\n",
       "      <td>43.806686</td>\n",
       "      <td>-79.194353</td>\n",
       "    </tr>\n",
       "    <tr>\n",
       "      <th>1</th>\n",
       "      <td>M1C</td>\n",
       "      <td>43.784535</td>\n",
       "      <td>-79.160497</td>\n",
       "    </tr>\n",
       "    <tr>\n",
       "      <th>2</th>\n",
       "      <td>M1E</td>\n",
       "      <td>43.763573</td>\n",
       "      <td>-79.188711</td>\n",
       "    </tr>\n",
       "    <tr>\n",
       "      <th>3</th>\n",
       "      <td>M1G</td>\n",
       "      <td>43.770992</td>\n",
       "      <td>-79.216917</td>\n",
       "    </tr>\n",
       "    <tr>\n",
       "      <th>4</th>\n",
       "      <td>M1H</td>\n",
       "      <td>43.773136</td>\n",
       "      <td>-79.239476</td>\n",
       "    </tr>\n",
       "  </tbody>\n",
       "</table>\n",
       "</div>"
      ],
      "text/plain": [
       "  Postcode   Latitude  Longitude\n",
       "0      M1B  43.806686 -79.194353\n",
       "1      M1C  43.784535 -79.160497\n",
       "2      M1E  43.763573 -79.188711\n",
       "3      M1G  43.770992 -79.216917\n",
       "4      M1H  43.773136 -79.239476"
      ]
     },
     "execution_count": 12,
     "metadata": {},
     "output_type": "execute_result"
    }
   ],
   "source": [
    "df_lola = pd.read_csv('https://cocl.us/Geospatial_data')\n",
    "df_new = df_lola.rename(columns={'Postal Code': 'Postcode'})\n",
    "df_new.head()"
   ]
  },
  {
   "cell_type": "code",
   "execution_count": 13,
   "metadata": {},
   "outputs": [
    {
     "data": {
      "text/html": [
       "<div>\n",
       "<style scoped>\n",
       "    .dataframe tbody tr th:only-of-type {\n",
       "        vertical-align: middle;\n",
       "    }\n",
       "\n",
       "    .dataframe tbody tr th {\n",
       "        vertical-align: top;\n",
       "    }\n",
       "\n",
       "    .dataframe thead th {\n",
       "        text-align: right;\n",
       "    }\n",
       "</style>\n",
       "<table border=\"1\" class=\"dataframe\">\n",
       "  <thead>\n",
       "    <tr style=\"text-align: right;\">\n",
       "      <th></th>\n",
       "      <th>Postcode</th>\n",
       "      <th>Borough</th>\n",
       "      <th>Neighbourhood</th>\n",
       "      <th>Latitude</th>\n",
       "      <th>Longitude</th>\n",
       "    </tr>\n",
       "  </thead>\n",
       "  <tbody>\n",
       "    <tr>\n",
       "      <th>0</th>\n",
       "      <td>M3A</td>\n",
       "      <td>North York</td>\n",
       "      <td>Parkwoods</td>\n",
       "      <td>43.753259</td>\n",
       "      <td>-79.329656</td>\n",
       "    </tr>\n",
       "    <tr>\n",
       "      <th>1</th>\n",
       "      <td>M4A</td>\n",
       "      <td>North York</td>\n",
       "      <td>Victoria Village</td>\n",
       "      <td>43.725882</td>\n",
       "      <td>-79.315572</td>\n",
       "    </tr>\n",
       "    <tr>\n",
       "      <th>2</th>\n",
       "      <td>M5A</td>\n",
       "      <td>Downtown Toronto</td>\n",
       "      <td>Harbourfront,Regent Park</td>\n",
       "      <td>43.654260</td>\n",
       "      <td>-79.360636</td>\n",
       "    </tr>\n",
       "    <tr>\n",
       "      <th>3</th>\n",
       "      <td>M6A</td>\n",
       "      <td>North York</td>\n",
       "      <td>Lawrence Heights,Lawrence Manor</td>\n",
       "      <td>43.718518</td>\n",
       "      <td>-79.464763</td>\n",
       "    </tr>\n",
       "    <tr>\n",
       "      <th>4</th>\n",
       "      <td>M7A</td>\n",
       "      <td>Queen's Park</td>\n",
       "      <td>Queen's Park</td>\n",
       "      <td>43.662301</td>\n",
       "      <td>-79.389494</td>\n",
       "    </tr>\n",
       "  </tbody>\n",
       "</table>\n",
       "</div>"
      ],
      "text/plain": [
       "  Postcode           Borough                    Neighbourhood   Latitude  \\\n",
       "0      M3A        North York                        Parkwoods  43.753259   \n",
       "1      M4A        North York                 Victoria Village  43.725882   \n",
       "2      M5A  Downtown Toronto         Harbourfront,Regent Park  43.654260   \n",
       "3      M6A        North York  Lawrence Heights,Lawrence Manor  43.718518   \n",
       "4      M7A      Queen's Park                     Queen's Park  43.662301   \n",
       "\n",
       "   Longitude  \n",
       "0 -79.329656  \n",
       "1 -79.315572  \n",
       "2 -79.360636  \n",
       "3 -79.464763  \n",
       "4 -79.389494  "
      ]
     },
     "execution_count": 13,
     "metadata": {},
     "output_type": "execute_result"
    }
   ],
   "source": [
    "df = pd.merge(df, df_new, on='Postcode').drop_duplicates()\n",
    "df.head()"
   ]
  },
  {
   "cell_type": "markdown",
   "metadata": {},
   "source": [
    "#### K-means clustering"
   ]
  },
  {
   "cell_type": "markdown",
   "metadata": {},
   "source": [
    "#### import libraty."
   ]
  },
  {
   "cell_type": "code",
   "execution_count": 39,
   "metadata": {},
   "outputs": [],
   "source": [
    "import numpy as np\n",
    "from geopy.geocoders import Nominatim\n",
    "import matplotlib.cm as cm\n",
    "import matplotlib.colors as colors\n",
    "import folium"
   ]
  },
  {
   "cell_type": "code",
   "execution_count": 40,
   "metadata": {},
   "outputs": [
    {
     "data": {
      "text/plain": [
       "Postcode          object\n",
       "Borough           object\n",
       "Neighbourhood     object\n",
       "Latitude         float64\n",
       "Longitude        float64\n",
       "dtype: object"
      ]
     },
     "execution_count": 40,
     "metadata": {},
     "output_type": "execute_result"
    }
   ],
   "source": [
    "df.dtypes"
   ]
  },
  {
   "cell_type": "markdown",
   "metadata": {},
   "source": [
    "#### choose items including 'Toronto'."
   ]
  },
  {
   "cell_type": "code",
   "execution_count": 41,
   "metadata": {},
   "outputs": [
    {
     "data": {
      "text/html": [
       "<div>\n",
       "<style scoped>\n",
       "    .dataframe tbody tr th:only-of-type {\n",
       "        vertical-align: middle;\n",
       "    }\n",
       "\n",
       "    .dataframe tbody tr th {\n",
       "        vertical-align: top;\n",
       "    }\n",
       "\n",
       "    .dataframe thead th {\n",
       "        text-align: right;\n",
       "    }\n",
       "</style>\n",
       "<table border=\"1\" class=\"dataframe\">\n",
       "  <thead>\n",
       "    <tr style=\"text-align: right;\">\n",
       "      <th></th>\n",
       "      <th>Postcode</th>\n",
       "      <th>Borough</th>\n",
       "      <th>Neighbourhood</th>\n",
       "      <th>Latitude</th>\n",
       "      <th>Longitude</th>\n",
       "    </tr>\n",
       "  </thead>\n",
       "  <tbody>\n",
       "    <tr>\n",
       "      <th>2</th>\n",
       "      <td>M5A</td>\n",
       "      <td>Downtown Toronto</td>\n",
       "      <td>Harbourfront,Regent Park</td>\n",
       "      <td>43.654260</td>\n",
       "      <td>-79.360636</td>\n",
       "    </tr>\n",
       "    <tr>\n",
       "      <th>9</th>\n",
       "      <td>M5B</td>\n",
       "      <td>Downtown Toronto</td>\n",
       "      <td>Ryerson,Garden District</td>\n",
       "      <td>43.657162</td>\n",
       "      <td>-79.378937</td>\n",
       "    </tr>\n",
       "    <tr>\n",
       "      <th>15</th>\n",
       "      <td>M5C</td>\n",
       "      <td>Downtown Toronto</td>\n",
       "      <td>St. James Town</td>\n",
       "      <td>43.651494</td>\n",
       "      <td>-79.375418</td>\n",
       "    </tr>\n",
       "    <tr>\n",
       "      <th>19</th>\n",
       "      <td>M4E</td>\n",
       "      <td>East Toronto</td>\n",
       "      <td>The Beaches</td>\n",
       "      <td>43.676357</td>\n",
       "      <td>-79.293031</td>\n",
       "    </tr>\n",
       "    <tr>\n",
       "      <th>20</th>\n",
       "      <td>M5E</td>\n",
       "      <td>Downtown Toronto</td>\n",
       "      <td>Berczy Park</td>\n",
       "      <td>43.644771</td>\n",
       "      <td>-79.373306</td>\n",
       "    </tr>\n",
       "  </tbody>\n",
       "</table>\n",
       "</div>"
      ],
      "text/plain": [
       "   Postcode           Borough             Neighbourhood   Latitude  Longitude\n",
       "2       M5A  Downtown Toronto  Harbourfront,Regent Park  43.654260 -79.360636\n",
       "9       M5B  Downtown Toronto   Ryerson,Garden District  43.657162 -79.378937\n",
       "15      M5C  Downtown Toronto            St. James Town  43.651494 -79.375418\n",
       "19      M4E      East Toronto               The Beaches  43.676357 -79.293031\n",
       "20      M5E  Downtown Toronto               Berczy Park  43.644771 -79.373306"
      ]
     },
     "execution_count": 41,
     "metadata": {},
     "output_type": "execute_result"
    }
   ],
   "source": [
    "df_tor = df[df['Borough'].str.contains('Toronto')]\n",
    "df_tor.head()"
   ]
  },
  {
   "cell_type": "markdown",
   "metadata": {},
   "source": [
    "#### Plot map and cluster."
   ]
  },
  {
   "cell_type": "code",
   "execution_count": 42,
   "metadata": {},
   "outputs": [
    {
     "data": {
      "text/html": [
       "<div style=\"width:100%;\"><div style=\"position:relative;width:100%;height:0;padding-bottom:60%;\"><iframe src=\"data:text/html;charset=utf-8;base64,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\" style=\"position:absolute;width:100%;height:100%;left:0;top:0;border:none !important;\" allowfullscreen webkitallowfullscreen mozallowfullscreen></iframe></div></div>"
      ],
      "text/plain": [
       "<folium.folium.Map at 0x7fbc890499b0>"
      ]
     },
     "execution_count": 42,
     "metadata": {},
     "output_type": "execute_result"
    }
   ],
   "source": [
    "address  =  'Toronto'\n",
    "geolocator = Nominatim(user_agent=\"Toronto_explorer\")\n",
    "location = geolocator.geocode(address)\n",
    "latitude = location.latitude\n",
    "longitude = location.longitude\n",
    "\n",
    "Toronto_map = folium.Map(location=[latitude, longitude], zoom_start=10)\n",
    "\n",
    "for lat, lng, borough, neighborhood in zip(df_tor['Latitude'], df_tor['Longitude'], df_tor['Borough'], df_tor['Neighbourhood']):\n",
    "    label = '{}, {}'.format(neighborhood, borough)\n",
    "    label = folium.Popup(label, parse_html=True)\n",
    "    folium.CircleMarker(\n",
    "        [lat, lng],\n",
    "        radius=5,\n",
    "        popup=label,\n",
    "        color='blue',\n",
    "        fill=True,\n",
    "        fill_color='#3186cc',\n",
    "        fill_opacity=0.7,\n",
    "        parse_html=False).add_to(Toronto_map)  \n",
    "    \n",
    "Toronto_map"
   ]
  },
  {
   "cell_type": "code",
   "execution_count": null,
   "metadata": {},
   "outputs": [],
   "source": []
  }
 ],
 "metadata": {
  "kernelspec": {
   "display_name": "Python 3",
   "language": "python",
   "name": "python3"
  },
  "language_info": {
   "codemirror_mode": {
    "name": "ipython",
    "version": 3
   },
   "file_extension": ".py",
   "mimetype": "text/x-python",
   "name": "python",
   "nbconvert_exporter": "python",
   "pygments_lexer": "ipython3",
   "version": "3.7.3"
  }
 },
 "nbformat": 4,
 "nbformat_minor": 2
}
